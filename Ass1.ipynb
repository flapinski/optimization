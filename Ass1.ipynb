{
  "nbformat": 4,
  "nbformat_minor": 0,
  "metadata": {
    "colab": {
      "provenance": [],
      "authorship_tag": "ABX9TyM3eS2wYK5ptG4JLVbpGRZl",
      "include_colab_link": true
    },
    "kernelspec": {
      "name": "python3",
      "display_name": "Python 3"
    },
    "language_info": {
      "name": "python"
    }
  },
  "cells": [
    {
      "cell_type": "markdown",
      "metadata": {
        "id": "view-in-github",
        "colab_type": "text"
      },
      "source": [
        "<a href=\"https://colab.research.google.com/github/flapinski/optimization/blob/main/Ass1.ipynb\" target=\"_parent\"><img src=\"https://colab.research.google.com/assets/colab-badge.svg\" alt=\"Open In Colab\"/></a>"
      ]
    },
    {
      "cell_type": "code",
      "execution_count": 80,
      "metadata": {
        "id": "isTXiUuA9_gV"
      },
      "outputs": [],
      "source": [
        "import numpy as np\n",
        "import pandas as pd\n",
        "from scipy.stats import ncx2\n",
        "from scipy import optimize as opt\n",
        "import matplotlib.pyplot as plt\n"
      ]
    },
    {
      "cell_type": "code",
      "source": [
        "def cirpdf(y, t, a, b, sigma):\n",
        "    \"\"\"\n",
        "    Generate a vectorised CIR distribuion from noncentral chi-square distribution.\n",
        "\n",
        "        dX = a(b - X)dt + sigma*sqrt(X) dW\n",
        "\n",
        "    The CIR pdf is related to the Chi distribution with 2q+2 degrees of freedom and non-centrality parameter\n",
        "\n",
        "    Args:\n",
        "        y (numppy.array): a 1-d vector of evaluation points: [X_0, X_1, ..., X_n ]\n",
        "        t (numpy.array): a 1-d vector of times:              [t_0, t_1, ..., t_n]\n",
        "        a (float): parameter\n",
        "        b (float): parameter\n",
        "        sigma (float): parameter\n",
        "\n",
        "    Returns:\n",
        "        numpy.array: a 1-d vector of length n-1.\n",
        "\n",
        "    Notes:\n",
        "        For each probability density element two members of the input vectors y and t must be used. For example,\n",
        "        if;\n",
        "            x = [x_0, x_1, x_2] and\n",
        "            t = [t_0, t_1, t_2]\n",
        "        we can only obtain 2 probability density values;\n",
        "            f_0 = f(x_1, t_1; x_0, t_0; a, b, sigma), the probability associated with evaluation point (x_1, t_1)\n",
        "            f_1 = f(x_2, t_2,; x_1, t_1; a, b, sigma), the probability associated with the evaluation point (x_2, t_2)\n",
        "\n",
        "        The returned result is the vector of length 2: [f_0, f_1]\n",
        "\n",
        "    Doctests:\n",
        "        >>> y = np.array([1.6,4.2,3,2.1])\n",
        "        >>> t = np.array([1,2,3,4])\n",
        "        >>> cirpdf(y, t, 1, 2, 0.2)\n",
        "        array([  4.04336846e-23,   1.16777299e+00,   8.81371441e-01])\n",
        "    \"\"\"\n",
        "    d = np.exp(-a * (t[1:] - t[:-1]))\n",
        "    c = 2 * a / (sigma ** 2 * (1 - d))\n",
        "    q = 2 * a * b / (sigma ** 2) - 1\n",
        "    z = 2 * c * y[1:]  # <- transformed variable\n",
        "    _lambda = 2 * c * y[:-1] * d  # <- non-centrality\n",
        "    df = 2 * q + 2  # <- degrees of freedom\n",
        "    if not (2 * a * b > sigma ** 2):  # <- check feller condition\n",
        "        res = np.full(len(t) - 1, 1e-100)  # <- if fails return negligible probability density\n",
        "    else:\n",
        "        res = 2 * c * ncx2.pdf(z, df, _lambda)  # <- else return real probability density.\n",
        "    return res\n"
      ],
      "metadata": {
        "id": "ER0W1orz-Kbn"
      },
      "execution_count": 5,
      "outputs": []
    },
    {
      "cell_type": "code",
      "source": [
        "url = 'https://raw.githubusercontent.com/flapinski/optimization/main/CIRDataSet.csv'\n",
        "df = pd.read_csv(url)\n",
        "t = np.asarray(df['t'])\n",
        "y = np.asarray(df['data'])"
      ],
      "metadata": {
        "id": "MSqimqDA_EOk"
      },
      "execution_count": 38,
      "outputs": []
    },
    {
      "cell_type": "code",
      "source": [
        "### TRY VARYING EACH OF THE PARAMETERS\n",
        "\n",
        "def testfun(a,b,sigma):\n",
        "  url = 'https://raw.githubusercontent.com/flapinski/optimization/main/CIRDataSet.csv'\n",
        "  df = pd.read_csv(url)\n",
        "  t = np.asarray(df['t'])\n",
        "  y = np.asarray(df['data'])\n",
        "\n",
        "  d = np.exp(-a * (t[1:] - t[:-1]))\n",
        "  c = 2 * a / (sigma ** 2 * (1 - d))\n",
        "  q = 2 * a * b / (sigma ** 2) - 1\n",
        "  z = 2 * c * y[1:]  # <- transformed variable\n",
        "  _lambda = 2 * c * y[:-1] * d  # <- non-centrality\n",
        "  df = 2 * q + 2  # <- degrees of freedom\n",
        "  if not (2 * a * b > sigma ** 2):  # <- check feller condition\n",
        "    res = np.full(len(t) - 1, 1e-100)  # <- if fails return negligible probability density\n",
        "  else:\n",
        "      res = 2 * c * ncx2.pdf(z, df, _lambda)  # <- else return real probability density.\n",
        "\n",
        "  negll = -sum(np.log(res))\n",
        "  return negll\n",
        "\n",
        "# Vary a\n",
        "const = 5\n",
        "res = []\n",
        "x = np.linspace(1, 10, 100)\n",
        "\n",
        "for var in x:\n",
        "  res.append(testfun(var,const,const))\n",
        "\n",
        "plt.plot(x,res,'-')\n",
        "plt.xlabel('a')\n",
        "plt.ylabel('Negative log-likelihood')\n",
        "plt.title('Vary a while b = sigma = 5')\n",
        "plt.show()"
      ],
      "metadata": {
        "colab": {
          "base_uri": "https://localhost:8080/",
          "height": 295
        },
        "id": "0PQ53fo3q84a",
        "outputId": "d3fec23e-ff5e-4c2e-dc82-ab807c9df5e1"
      },
      "execution_count": 128,
      "outputs": [
        {
          "output_type": "display_data",
          "data": {
            "text/plain": [
              "<Figure size 432x288 with 1 Axes>"
            ],
            "image/png": "[encoded data removed]"
          },
          "metadata": {
            "needs_background": "light"
          }
        }
      ]
    },
    {
      "cell_type": "code",
      "source": [
        "# Vary b\n",
        "const = 5\n",
        "res = []\n",
        "x = np.linspace(1, 10, 100)\n",
        "\n",
        "for var in x:\n",
        "  res.append(testfun(const,var,const))\n",
        "\n",
        "plt.plot(x,res,'-')\n",
        "plt.xlabel('b')\n",
        "plt.ylabel('Negative log-likelihood')\n",
        "plt.title('Vary b while a = sigma = 5')\n",
        "plt.show()"
      ],
      "metadata": {
        "id": "5Erm7RfW1rWF",
        "outputId": "ba069426-548b-428b-ea1f-4a81570bffc0",
        "colab": {
          "base_uri": "https://localhost:8080/",
          "height": 295
        }
      },
      "execution_count": 133,
      "outputs": [
        {
          "output_type": "display_data",
          "data": {
            "text/plain": [
              "<Figure size 432x288 with 1 Axes>"
            ],
            "image/png": "[encoded data removed]"
          },
          "metadata": {
            "needs_background": "light"
          }
        }
      ]
    },
    {
      "cell_type": "code",
      "source": [
        "# Vary sigma\n",
        "const = 5\n",
        "res = []\n",
        "x = np.linspace(1, 10, 100)\n",
        "\n",
        "for var in x:\n",
        "  res.append(testfun(const,const,var))\n",
        "\n",
        "plt.plot(x,res,'-')\n",
        "plt.xlabel('sigma')\n",
        "plt.ylabel('Negative log-likelihood')\n",
        "plt.title('Vary sigma while a = b = 5')\n",
        "plt.show()"
      ],
      "metadata": {
        "id": "d0CgzGGY2HO1",
        "outputId": "c824b011-7241-48f5-b822-898345195c86",
        "colab": {
          "base_uri": "https://localhost:8080/",
          "height": 295
        }
      },
      "execution_count": 132,
      "outputs": [
        {
          "output_type": "display_data",
          "data": {
            "text/plain": [
              "<Figure size 432x288 with 1 Axes>"
            ],
            "image/png": "[encoded data removed]"
          },
          "metadata": {
            "needs_background": "light"
          }
        }
      ]
    },
    {
      "cell_type": "code",
      "source": [
        "def obj(par):\n",
        "  url = 'https://raw.githubusercontent.com/flapinski/optimization/main/CIRDataSet.csv'\n",
        "  df = pd.read_csv(url)\n",
        "  t = np.asarray(df['t'])\n",
        "  y = np.asarray(df['data'])\n",
        "\n",
        "  a = par[0]\n",
        "  b = par[1]\n",
        "  sigma = par[2]\n",
        "\n",
        "  d = np.exp(-a * (t[1:] - t[:-1]))\n",
        "  c = 2 * a / (sigma ** 2 * (1 - d))\n",
        "  q = 2 * a * b / (sigma ** 2) - 1\n",
        "  z = 2 * c * y[1:]  # <- transformed variable\n",
        "  _lambda = 2 * c * y[:-1] * d  # <- non-centrality\n",
        "  df = 2 * q + 2  # <- degrees of freedom\n",
        "  if not (2 * a * b > sigma ** 2):  # <- check feller condition\n",
        "    res = np.full(len(t) - 1, 1e-100)  # <- if fails return negligible probability density\n",
        "  else:\n",
        "      res = 2 * c * ncx2.pdf(z, df, _lambda)  # <- else return real probability density.\n",
        "\n",
        "  negll = -sum(np.log(res))\n",
        "  return negll\n"
      ],
      "metadata": {
        "id": "aGaqNknR_qjR"
      },
      "execution_count": 61,
      "outputs": []
    },
    {
      "cell_type": "code",
      "source": [],
      "metadata": {
        "colab": {
          "base_uri": "https://localhost:8080/"
        },
        "id": "nYpLt_8Fjejb",
        "outputId": "e0f2867d-8937-4988-d9e6-ab615caba6a8"
      },
      "execution_count": 68,
      "outputs": [
        {
          "output_type": "execute_result",
          "data": {
            "text/plain": [
              "230028.25079010037"
            ]
          },
          "metadata": {},
          "execution_count": 68
        }
      ]
    },
    {
      "cell_type": "code",
      "source": [
        "guess = (0.97,2.5,1)\n",
        "opt.minimize(obj, guess, method = 'Nelder-Mead')"
      ],
      "metadata": {
        "colab": {
          "base_uri": "https://localhost:8080/"
        },
        "id": "1MyvSvnaEo69",
        "outputId": "8e0d5ef4-38fd-4fa6-f989-8751e5736e43"
      },
      "execution_count": 110,
      "outputs": [
        {
          "output_type": "execute_result",
          "data": {
            "text/plain": [
              " final_simplex: (array([[0.8003988 , 1.22846793, 1.40232967],\n",
              "       [0.80039873, 1.22846809, 1.40232971],\n",
              "       [0.80039872, 1.22846813, 1.40232972],\n",
              "       [0.80039872, 1.22846813, 1.40232972]]), array([-708.36110392, -708.36104604, -708.36103309, -708.36103191]))\n",
              "           fun: -708.3611039248154\n",
              "       message: 'Optimization terminated successfully.'\n",
              "          nfev: 562\n",
              "           nit: 296\n",
              "        status: 0\n",
              "       success: True\n",
              "             x: array([0.8003988 , 1.22846793, 1.40232967])"
            ]
          },
          "metadata": {},
          "execution_count": 110
        }
      ]
    }
  ]
}