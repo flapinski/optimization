{
  "nbformat": 4,
  "nbformat_minor": 0,
  "metadata": {
    "colab": {
      "provenance": [],
      "authorship_tag": "ABX9TyNF+ZBuH7GMtDp7460ii60M",
      "include_colab_link": true
    },
    "kernelspec": {
      "name": "python3",
      "display_name": "Python 3"
    },
    "language_info": {
      "name": "python"
    }
  },
  "cells": [
    {
      "cell_type": "markdown",
      "metadata": {
        "id": "view-in-github",
        "colab_type": "text"
      },
      "source": [
        "<a href=\"https://colab.research.google.com/github/flapinski/optimization/blob/main/Ass1.ipynb\" target=\"_parent\"><img src=\"https://colab.research.google.com/assets/colab-badge.svg\" alt=\"Open In Colab\"/></a>"
      ]
    },
    {
      "cell_type": "code",
      "execution_count": 1,
      "metadata": {
        "id": "isTXiUuA9_gV"
      },
      "outputs": [],
      "source": [
        "import numpy as np\n",
        "from scipy.stats import ncx2\n"
      ]
    },
    {
      "cell_type": "code",
      "source": [
        "def cirpdf(y, t, a, b, sigma):\n",
        "    \"\"\"\n",
        "    Generate a vectorised CIR distribuion from noncentral chi-square distribution.\n",
        "\n",
        "        dX = a(b - X)dt + sigma*sqrt(X) dW\n",
        "\n",
        "    The CIR pdf is related to the Chi distribution with 2q+2 degrees of freedom and non-centrality parameter\n",
        "\n",
        "    Args:\n",
        "        y (numppy.array): a 1-d vector of evaluation points: [X_0, X_1, ..., X_n ]\n",
        "        t (numpy.array): a 1-d vector of times:              [t_0, t_1, ..., t_n]\n",
        "        a (float): parameter\n",
        "        b (float): parameter\n",
        "        sigma (float): parameter\n",
        "\n",
        "    Returns:\n",
        "        numpy.array: a 1-d vector of length n-1.\n",
        "\n",
        "    Notes:\n",
        "        For each probability density element two members of the input vectors y and t must be used. For example,\n",
        "        if;\n",
        "            x = [x_0, x_1, x_2] and\n",
        "            t = [t_0, t_1, t_2]\n",
        "        we can only obtain 2 probability density values;\n",
        "            f_0 = f(x_1, t_1; x_0, t_0; a, b, sigma), the probability associated with evaluation point (x_1, t_1)\n",
        "            f_1 = f(x_2, t_2,; x_1, t_1; a, b, sigma), the probability associated with the evaluation point (x_2, t_2)\n",
        "\n",
        "        The returned result is the vector of length 2: [f_0, f_1]\n",
        "\n",
        "    Doctests:\n",
        "        >>> y = np.array([1.6,4.2,3,2.1])\n",
        "        >>> t = np.array([1,2,3,4])\n",
        "        >>> cirpdf(y, t, 1, 2, 0.2)\n",
        "        array([  4.04336846e-23,   1.16777299e+00,   8.81371441e-01])\n",
        "    \"\"\"\n",
        "    d = np.exp(-a * (t[1:] - t[:-1]))\n",
        "    c = 2 * a / (sigma ** 2 * (1 - d))\n",
        "    q = 2 * a * b / (sigma ** 2) - 1\n",
        "    z = 2 * c * y[1:]  # <- transformed variable\n",
        "    _lambda = 2 * c * y[:-1] * d  # <- non-centrality\n",
        "    df = 2 * q + 2  # <- degrees of freedom\n",
        "    if not (2 * a * b > sigma ** 2):  # <- check feller condition\n",
        "        res = np.full(len(t) - 1, 1e-100)  # <- if fails return negligible probability density\n",
        "    else:\n",
        "        res = 2 * c * ncx2.pdf(z, df, _lambda)  # <- else return real probability density.\n",
        "    return res\n"
      ],
      "metadata": {
        "id": "ER0W1orz-Kbn"
      },
      "execution_count": null,
      "outputs": []
    }
  ]
}